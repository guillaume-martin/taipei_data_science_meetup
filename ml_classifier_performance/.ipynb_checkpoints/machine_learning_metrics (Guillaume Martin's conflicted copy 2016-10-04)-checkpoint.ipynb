{
 "cells": [
  {
   "cell_type": "markdown",
   "metadata": {},
   "source": [
    "# Assessing ML classifier performance\n",
    "\n",
    "## Prepare the classifier"
   ]
  },
  {
   "cell_type": "code",
   "execution_count": 2,
   "metadata": {
    "collapsed": false
   },
   "outputs": [],
   "source": [
    "import matplotlib.pyplot as plt\n",
    "import pandas as pd\n",
    "import numpy as np\n",
    "from sklearn import cross_validation\n",
    "from sklearn.ensemble import RandomForestClassifier\n",
    "% matplotlib inline"
   ]
  },
  {
   "cell_type": "code",
   "execution_count": 3,
   "metadata": {
    "collapsed": false
   },
   "outputs": [],
   "source": [
    "df = pd.read_pickle('metrics_dataset.pickle')\n",
    "\n",
    "# set features and labels sets\n",
    "X = np.array(df.drop(['Survived'], axis=1))\n",
    "y = np.array(df['Survived'])\n",
    "\n",
    "X_train, X_test, y_train, y_test = cross_validation.train_test_split(X, y, test_size=0.2)\n",
    "\n",
    "clf = RandomForestClassifier(n_estimators = 2000)\n",
    "\n",
    "clf.fit(X_train, y_train)\n",
    "\n",
    "y_pred = clf.predict(X_test)"
   ]
  },
  {
   "cell_type": "markdown",
   "metadata": {},
   "source": [
    "## Accuracy\n",
    "\n",
    "    accuracy_score(y_true, y_pred, normalize=True, sample_weight=None)\n",
    "    \n",
    " **parameters**\n",
    "- y_true: *array* containing actual values\n",
    "- y_pred: *array* containing predicted values\n",
    "- normalize: *boolean*. False return the number of correctly classified samples. True return a fraction of correctly classified samples.\n",
    "- sample_weight: *array-like* of sample weights\n",
    " "
   ]
  },
  {
   "cell_type": "code",
   "execution_count": 4,
   "metadata": {
    "collapsed": false
   },
   "outputs": [
    {
     "name": "stdout",
     "output_type": "stream",
     "text": [
      "using .score = 0.749\n",
      "using accuracy_score : 0.749\n"
     ]
    }
   ],
   "source": [
    "accuracy = clf.score(X_test, y_test)\n",
    "print('using .score = %.3f' % accuracy)\n",
    "\n",
    "from sklearn.metrics import accuracy_score\n",
    "accuracy2 = accuracy_score(y_test, y_pred)\n",
    "print('using accuracy_score : %.3f' % accuracy2)"
   ]
  },
  {
   "cell_type": "markdown",
   "metadata": {},
   "source": [
    "## Confusion Matrix  \n",
    "\n",
    "    confusion_matrix(y_true, y_pred, labels=None, sample_weight=None)\n",
    "\n",
    "**parameters:**  \n",
    "- y_true : array containing actual labels\n",
    "- y_pred : array containing predicted labels\n",
    "- labels : list of labels to index the matrix\n",
    "- sample_weights : array-like. Sample weights\n",
    "\n",
    "**output:**  \n",
    "\n",
    "||Actual Negative|Actual Positive|\n",
    "|-|-|-|\n",
    "|Predictied Negative|True Negative|False Negative|\n",
    "|Predicted Positive|False Positive|True Positive|"
   ]
  },
  {
   "cell_type": "code",
   "execution_count": 5,
   "metadata": {
    "collapsed": false
   },
   "outputs": [
    {
     "name": "stdout",
     "output_type": "stream",
     "text": [
      "[[95 18]\n",
      " [27 39]]\n"
     ]
    }
   ],
   "source": [
    "from sklearn.metrics import confusion_matrix\n",
    "\n",
    "labels = [0,1]\n",
    "matrix = confusion_matrix(y_test, y_pred, labels)\n",
    "print(matrix)"
   ]
  },
  {
   "cell_type": "code",
   "execution_count": 10,
   "metadata": {
    "collapsed": false
   },
   "outputs": [
    {
     "data": {
      "text/html": [
       "<div>\n",
       "<table border=\"1\" class=\"dataframe\">\n",
       "  <thead>\n",
       "    <tr style=\"text-align: right;\">\n",
       "      <th>Predicted</th>\n",
       "      <th>0</th>\n",
       "      <th>1</th>\n",
       "    </tr>\n",
       "    <tr>\n",
       "      <th>True</th>\n",
       "      <th></th>\n",
       "      <th></th>\n",
       "    </tr>\n",
       "  </thead>\n",
       "  <tbody>\n",
       "    <tr>\n",
       "      <th>0</th>\n",
       "      <td>95</td>\n",
       "      <td>18</td>\n",
       "    </tr>\n",
       "    <tr>\n",
       "      <th>1</th>\n",
       "      <td>27</td>\n",
       "      <td>39</td>\n",
       "    </tr>\n",
       "  </tbody>\n",
       "</table>\n",
       "</div>"
      ],
      "text/plain": [
       "Predicted   0   1\n",
       "True             \n",
       "0          95  18\n",
       "1          27  39"
      ]
     },
     "execution_count": 10,
     "metadata": {},
     "output_type": "execute_result"
    }
   ],
   "source": [
    "# we can also create a matrix using pandas' crosstab() method\n",
    "pd.crosstab(y_test, y_pred, rownames=['True'], colnames=['Predicted'])"
   ]
  },
  {
   "cell_type": "code",
   "execution_count": 11,
   "metadata": {
    "collapsed": false
   },
   "outputs": [
    {
     "data": {
      "text/plain": [
       "<function matplotlib.pyplot.show>"
      ]
     },
     "execution_count": 11,
     "metadata": {},
     "output_type": "execute_result"
    },
    {
     "data": {
      "image/png": "[encoded data removed]",
      "text/plain": [
       "<matplotlib.figure.Figure at 0x7fd90d99eb70>"
      ]
     },
     "metadata": {},
     "output_type": "display_data"
    }
   ],
   "source": [
    "# https://stackoverflow.com/questions/19233771/sklearn-plot-confution-matrix-with-labels\n",
    "fig = plt.figure()\n",
    "ax = fig.add_subplot(111)\n",
    "#cax = ax.matshow(matrix, cmap = plt.cm.gray)\n",
    "cax = ax.matshow(matrix)\n",
    "plt.title('Confusion Matrix of the Classifier')\n",
    "fig.colorbar(cax)\n",
    "ax.set_xticklabels([''] + labels)\n",
    "ax.set_yticklabels([''] + labels)\n",
    "plt.xlabel('Predicted')\n",
    "plt.ylabel('True')\n",
    "plt.show"
   ]
  },
  {
   "cell_type": "markdown",
   "metadata": {},
   "source": [
    "## Precision / Recall\n",
    "\n",
    "    precision_score(y_true, y_pred, labels=None, pos_label=1, average='binary', sample_weight=None)\n",
    "\n",
    "**parameters**\n",
    "- y_true : *array* containing actual labels\n",
    "- y_pred : *array* containing predicted labels\n",
    "- labels : *list* the set of label to include if average != binary\n",
    "- pos_label : *str* or *int*.\n",
    "- average : *str* [None, binary, micro, macro, samples, weighted]. Required for multiclass/multilabel targets\n",
    "    - binary: only reports results for the class in pos_label\n",
    "    - micro: calculate metrics globally (counting total TP, FN and FP)\n",
    "    - macro: calculate metrics for each label and find unweighted mean\n",
    "    - weighted: calculate metrics for each label and find weighted mean\n",
    "    - samples: \n",
    "- sample_weight : *array-like [n_samples]"
   ]
  },
  {
   "cell_type": "code",
   "execution_count": 12,
   "metadata": {
    "collapsed": false
   },
   "outputs": [
    {
     "name": "stdout",
     "output_type": "stream",
     "text": [
      "precision = 0.684\n",
      "recall = 0.591\n"
     ]
    }
   ],
   "source": [
    "from sklearn.metrics import precision_score, recall_score\n",
    "\n",
    "precision = precision_score(y_test, y_pred)\n",
    "print('precision = %.3f' % precision)\n",
    "\n",
    "recall = recall_score(y_test, y_pred)\n",
    "print('recall = %.3f' % recall)"
   ]
  },
  {
   "cell_type": "markdown",
   "metadata": {},
   "source": [
    "## F1-Score\n",
    "\n",
    "    f1_score(y_true, y_pred, labels=None, pos_label=1, average='binary', sample_weight=None)\n",
    "    \n",
    "**parameters**\n",
    "- y_true : *array* containing actual labels\n",
    "- y_pred : *array* containing predicted labels\n",
    "- labels : *list* of labels to include if average is not set to binary\n",
    "- pos_label : *string* or *integer*. The class to report if average is set to binary\n",
    "- average : *string* [None, binary, micro, macro, weighted]\n",
    "- sample_weight : *array-like*"
   ]
  },
  {
   "cell_type": "code",
   "execution_count": 13,
   "metadata": {
    "collapsed": false
   },
   "outputs": [
    {
     "name": "stdout",
     "output_type": "stream",
     "text": [
      "F1_Score = 0.634\n"
     ]
    }
   ],
   "source": [
    "from sklearn.metrics import f1_score\n",
    "\n",
    "f1 = f1_score(y_test, y_pred)\n",
    "\n",
    "print('F1_Score = %.3f' % f1)"
   ]
  },
  {
   "cell_type": "markdown",
   "metadata": {
    "collapsed": true
   },
   "source": [
    "## Learning Curves\n",
    "\n",
    "    learning_curve(estimator, X, y, groups=None, train_sizes=array([ 0.1, 0.33, 0.55, 0.78, 1. ]), cv=None, scoring=None, exploit_incremental_learning=False, n_jobs=1, pre_dispatch='all', verbose=0)\n",
    "    \n",
    "**parameters**\n",
    "- estimator: our classifier (here it's clf)\n",
    "- X: *array-like (n_samples x n_features)*. The features of the entire training set\n",
    "- y: *array_like (n_samples)*. The labels of the entire training set. None for unsupervised learning.\n",
    "- train_sizes: *array*. Fractions of the maximum number of training examples. Here, we generate the array with np.linspace(start, stop, num)\n",
    "- cv: *integer*. Determine the cross-validation splitting strategy.\n",
    "- verbose: *integer*. Controls the verbosity. The higher, the more messages.\n",
    "- n_jobs: *integer*. Number of jobs to run in parallel.\n",
    "\n",
    "**returns**\n",
    "- train_size_abs: number of training examples used\n",
    "- train_scores: scores on training sets\n",
    "- test_scores: scores on test sets.\n",
    "    \n",
    "http://alexanderfabisch.github.io/learning-curves-in-scikit-learn.html\n",
    "    \n"
   ]
  },
  {
   "cell_type": "code",
   "execution_count": 14,
   "metadata": {
    "collapsed": false
   },
   "outputs": [
    {
     "data": {
      "image/png": "[encoded data removed]",
      "text/plain": [
       "<matplotlib.figure.Figure at 0x7fd9477aada0>"
      ]
     },
     "metadata": {},
     "output_type": "display_data"
    }
   ],
   "source": [
    "from sklearn.learning_curve import learning_curve\n",
    "\n",
    "train_sizes, train_scores, test_scores = learning_curve(\n",
    "    clf, X, y, cv=None, train_sizes=np.linspace(.1, 1., 10), verbose=0, n_jobs=2)\n",
    "\n",
    "train_scores_mean = np.mean(train_scores, axis=1)\n",
    "train_scores_std = np.std(train_scores, axis=1)\n",
    "test_scores_mean = np.mean(test_scores, axis=1)\n",
    "test_scores_std = np.std(test_scores, axis=1)\n",
    " \n",
    "plt.figure()\n",
    "\n",
    "plt.fill_between(train_sizes, train_scores_mean - train_scores_std,\n",
    "                 train_scores_mean + train_scores_std, alpha=0.1,\n",
    "                 color=\"b\")\n",
    "plt.fill_between(train_sizes, test_scores_mean - test_scores_std,\n",
    "                 test_scores_mean + test_scores_std, alpha=0.1, color=\"g\")\n",
    "\n",
    "plt.plot(train_sizes, train_scores_mean, '-', color=\"b\",\n",
    "         label=\"Training score\")\n",
    "plt.plot(train_sizes, test_scores_mean, '-', color=\"g\",\n",
    "         label=\"Cross-validation score\")\n",
    "\n",
    "plt.title(\"RandomForestClassifier\")\n",
    "plt.legend(loc=\"best\")\n",
    "plt.xlabel(\"Training examples\")\n",
    "plt.ylabel(\"Score\")\n",
    "plt.ylim(0.6, 1.01)\n",
    "plt.gca().invert_yaxis()\n",
    "plt.grid()\n",
    "\n",
    "plt.show()"
   ]
  },
  {
   "cell_type": "markdown",
   "metadata": {},
   "source": [
    "## Receiver Operating Characteristic (ROC)\n",
    "\n",
    "    roc_curve(y_true, y_score, pos_label=None, sample_weight=None, drop_intermediate=True)\n",
    "    \n",
    "**parameters**\n",
    "- y_true :\n",
    "- y_score : \n",
    "- pos_label : \n",
    "- sample_weight : \n",
    "- drop_intermediate : \n",
    "\n",
    "**returns**\n",
    "- fpr : *array* of increasing false positive rates\n",
    "- tpr : *array* of increasing true positive rates\n",
    "- thresholds: *array* of decreasing thresholds"
   ]
  },
  {
   "cell_type": "code",
   "execution_count": 14,
   "metadata": {
    "collapsed": false
   },
   "outputs": [
    {
     "data": {
      "image/png": "[encoded data removed]",
      "text/plain": [
       "<matplotlib.figure.Figure at 0x7ff8dfdd3e10>"
      ]
     },
     "metadata": {},
     "output_type": "display_data"
    }
   ],
   "source": [
    "from sklearn.metrics import roc_curve, auc\n",
    "\n",
    "# determine the false positive and true positive rates\n",
    "fpr, tpr, _ = roc_curve(y_test, clf.predict_proba(X_test)[:,1])\n",
    "\n",
    "# calculate the AUC\n",
    "roc_auc = auc(fpr, tpr)\n",
    "\n",
    "plt.plot(fpr, tpr, label='ROC curve (area = %.2f)' % roc_auc)\n",
    "plt.plot([0,1], [0,1], 'k--')\n",
    "plt.xlim([0.0, 1.0])\n",
    "plt.ylim([0.0, 1.05])\n",
    "plt.xlabel('False Positive Rate')\n",
    "plt.ylabel('True Positive Rate')\n",
    "plt.title('ROC Curve')\n",
    "plt.legend(loc='lower right')\n",
    "plt.show()"
   ]
  },
  {
   "cell_type": "code",
   "execution_count": null,
   "metadata": {
    "collapsed": true
   },
   "outputs": [],
   "source": []
  }
 ],
 "metadata": {
  "anaconda-cloud": {},
  "kernelspec": {
   "display_name": "Python [Root]",
   "language": "python",
   "name": "Python [Root]"
  },
  "language_info": {
   "codemirror_mode": {
    "name": "ipython",
    "version": 3
   },
   "file_extension": ".py",
   "mimetype": "text/x-python",
   "name": "python",
   "nbconvert_exporter": "python",
   "pygments_lexer": "ipython3",
   "version": "3.5.2"
  }
 },
 "nbformat": 4,
 "nbformat_minor": 0
}
